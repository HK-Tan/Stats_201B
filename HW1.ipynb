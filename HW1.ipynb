{
 "cells": [
  {
   "cell_type": "markdown",
   "metadata": {},
   "source": [
    "### Stats 201B Homework 1, Question 3"
   ]
  },
  {
   "cell_type": "code",
   "execution_count": 3,
   "metadata": {},
   "outputs": [],
   "source": [
    "%reset -f\n",
    "import numpy as np"
   ]
  },
  {
   "cell_type": "code",
   "execution_count": 181,
   "metadata": {},
   "outputs": [
    {
     "name": "stdout",
     "output_type": "stream",
     "text": [
      "Mean: 0.04440172632572174\n",
      "Exp(bar(x)^2): 1.001973458010849\n",
      "Mean of Bootstrap estimators of Exp(bar(x)^2): 1.0080836864174683\n",
      "Standard Error of Estimator: 0.011070091497257151\n",
      "Delta Method Standard Error: 0.006926273410554654\n"
     ]
    }
   ],
   "source": [
    "N = 500\n",
    "inputs = np.linspace(1,N,N)\n",
    "errors = np.random.normal(0, 1, N)\n",
    "xx = 2*np.sin(inputs) + errors\n",
    "print(\"Mean:\", np.mean(xx))\n",
    "est_value =  np.exp(np.mean(xx)**2)\n",
    "print(\"Exp(bar(x)^2):\", est_value )\n",
    "B = 5000 # Number of bootstrap reps\n",
    "bootstrapped_est = np.zeros(B)\n",
    "for i in range(B):\n",
    "    sample = np.random.choice(xx, size=N, replace=True)\n",
    "    bootstrapped_est[i] = np.exp(np.mean(sample)**2)\n",
    "bootstrapped_est_mean = np.mean(bootstrapped_est)\n",
    "print(\"Mean of Bootstrap estimators of Exp(bar(x)^2):\", bootstrapped_est_mean)\n",
    "print(\"Standard Error of Estimator:\", (1/(B-1)*np.sum( (bootstrapped_est - bootstrapped_est_mean)**2 ))**0.5 )\n",
    "\n",
    "### Check: Delta Method. By the delta method, the standard error of exp(bar{x}^2) is\n",
    "sd_xx = (1/N*np.sum((xx - np.mean(xx))**2))**0.5\n",
    "print(\"Delta Method Standard Error:\", 1/np.sqrt(N)*2*np.abs(np.mean(xx))*np.exp(np.mean(xx)**2)*sd_xx)\n"
   ]
  },
  {
   "cell_type": "code",
   "execution_count": 170,
   "metadata": {},
   "outputs": [
    {
     "name": "stdout",
     "output_type": "stream",
     "text": [
      "Mean: 0.0030234907045857008\n",
      "Exp(bar(x)^2): 1.003028066062628\n",
      "Mean of Bootstrap estimators of Exp(bar(x)^2): 1.0064398381674082\n",
      "Standard Error of Estimator: 0.0765747387638939\n",
      "Delta Method Standard Error: 0.07576431290922817\n"
     ]
    }
   ],
   "source": [
    "N = 500\n",
    "inputs = np.linspace(1,N,N)\n",
    "errors = np.random.normal(0, 1, N)\n",
    "xx = 2*np.sin(inputs) + errors\n",
    "print(\"Mean:\", np.mean(xx))\n",
    "est_value =  np.exp(np.mean(xx))\n",
    "print(\"Exp(bar(x)^2):\", est_value )\n",
    "B = 5000 # Number of bootstrap reps\n",
    "bootstrapped_est = np.zeros(B)\n",
    "for i in range(B):\n",
    "    sample = np.random.choice(xx, size=N, replace=True)\n",
    "    bootstrapped_est[i] = np.exp(np.mean(sample))\n",
    "bootstrapped_est_mean = np.mean(bootstrapped_est)\n",
    "print(\"Mean of Bootstrap estimators of Exp(bar(x)^2):\", bootstrapped_est_mean)\n",
    "print(\"Standard Error of Estimator:\", (1/(B-1)*np.sum( (bootstrapped_est - bootstrapped_est_mean)**2 ))**0.5 )\n",
    "\n",
    "### Check: Delta Method. By the delta method, the standard error of exp(bar{x}^2) is\n",
    "sd_xx = (1/N*np.sum((xx - np.mean(xx))**2))**0.5\n",
    "print(\"Delta Method Standard Error:\", 1/np.sqrt(N)*np.exp(np.mean(xx))*sd_xx)\n"
   ]
  }
 ],
 "metadata": {
  "kernelspec": {
   "display_name": "Python 3",
   "language": "python",
   "name": "python3"
  },
  "language_info": {
   "codemirror_mode": {
    "name": "ipython",
    "version": 3
   },
   "file_extension": ".py",
   "mimetype": "text/x-python",
   "name": "python",
   "nbconvert_exporter": "python",
   "pygments_lexer": "ipython3",
   "version": "3.13.0"
  }
 },
 "nbformat": 4,
 "nbformat_minor": 2
}
